{
 "cells": [
  {
   "cell_type": "code",
   "execution_count": null,
   "metadata": {},
   "outputs": [],
   "source": [
    "import numpy as np\n",
    "import time\n",
    "import random\n",
    "import logging\n",
    "from crystals.crystal_calculation.calculate_fractal_dimension import fractal_dimension\n",
    "from crystals.crystal_calculation.Crystal import Crystal\n",
    "from crystals.crystal_calculation.Canvas import Canvas"
   ]
  },
  {
   "cell_type": "code",
   "execution_count": null,
   "metadata": {},
   "outputs": [],
   "source": [
    "c = Crystal()\n",
    "canvas = Canvas(c, c.inject_radius)\n",
    "clusters = 100"
   ]
  },
  {
   "cell_type": "code",
   "execution_count": null,
   "metadata": {},
   "outputs": [],
   "source": [
    "start_time = time.time()\n",
    "for cluster in range(clusters):\n",
    "    count = count + 1 # Counts the number of injections\n",
    "    WALK = True\n",
    "    while(WALK):\n",
    "        for step in range(8): # Checks the neighbour sites of the particle position to check if any are in the crystal\n",
    "            adjacent = canvas.pos + canvas.__DIR_CHOICE[step,]\n",
    "            if(canvas.canvas[adjacent[0], adjacent[1]] == 1):\n",
    "                canvas.canvas[canvas.pos[0], canvas.pos[1]] = 1 # Adds the position to the crystal if it is neighbouring the crystal\n",
    "                c.crystal_loc.append([canvas.pos[0], canvas.pos[1]]) \n",
    "                size = np.sqrt((canvas.pos[0] - c.mid_point)**2 + (canvas.pos[1] - c.mid_point)**2)\n",
    "                # Calculates how far from the centre the new particle on the edge of the crystal is\n",
    "                if(size > c.inject_radius - 1): # Checks if the crystal is too close to the injection circle\n",
    "                    c.inject_radius = c.update_radius() # Increases the size of the injection circle\n",
    "                    if(c.inject_radius >= (c.pixels - 1 - c.mid_point)): # Ends the process if the crystal is too close to the edge\n",
    "                        logging.info(\"Edge Reached\")\n",
    "                        INJECT = False\n",
    "                WALK = False\n",
    "                continue\n",
    "        __DIREC = random.choice([0, 1, 2, 3, 4, 5, 6, 7])\n",
    "        # Steps for the random walk\n",
    "        canvas.pos[0] = canvas.pos[0] + canvas.__DIR_CHOICE[__DIREC,][0]\n",
    "        canvas.pos[1] = canvas.pos[1] + canvas.__DIR_CHOICE[__DIREC,][1]\n",
    "\n",
    "        #### Kills on the edge ####\n",
    "        if(canvas.pos[0] in {c.pixels - 1, 0} or canvas.pos[1] in {c.pixels-1, 0}):\n",
    "            WALK = False\n",
    "        #### Kill Circle ####\n",
    "        if(np.linalg.norm(canvas.pos - np.array([c.mid_point, c.mid_point])) > c.inject_radius + 5):\n",
    "            killcount = killcount + 1\n",
    "            WALK = False   # Breaks the loop for this random walk if it goes out\n",
    "                            # of bounds\n",
    "    if(count > c.num_of_injections):\n",
    "        logging.info(\"Injections completed\")\n",
    "        # Ends the process if all the particles have been injected for this crystal\n",
    "        INJECT = False \n",
    "\n",
    "L = 20\n",
    "area = np.zeros(L)\n",
    "rseq = 5 * list(range(L))\n",
    "for k in range(L):\n",
    "    for l in range(len(c.crystal_loc)):\n",
    "        if(c.norm(c.crystal_loc[l][0]- c.mid_point, c.crystal_loc[l][1] - c.mid_point) < rseq[k]):\n",
    "            area[k] = area[k] + 1 # Counts the number of occupied sites within radius rseq[k]\n",
    "            # sums all the numbers of occupied sites for each crystal\n",
    "        \n",
    "average_area = sum(area) / clusters # Averages the sums\n",
    "end_time = time.time()\n",
    "logging.info(average_area)\n",
    "logging.info('Elapsed time = ', repr(end_time - start_time))\n",
    "dimension_data = fractal_dimension(average_area, rseq)"
   ]
  }
 ],
 "metadata": {
  "language_info": {
   "name": "python"
  }
 },
 "nbformat": 4,
 "nbformat_minor": 4
}
